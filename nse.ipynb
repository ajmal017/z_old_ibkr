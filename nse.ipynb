{
 "cells": [
  {
   "cell_type": "code",
   "execution_count": 22,
   "metadata": {},
   "outputs": [
    {
     "name": "stdout",
     "output_type": "stream",
     "text": [
      "Wall time: 7.07 s\n"
     ]
    }
   ],
   "source": [
    "%%time\n",
    "import pandas as pd\n",
    "import requests\n",
    "import lxml.html as LH\n",
    "import re                               # For regex\n",
    "import datetime                         # For days to expiry calculation\n",
    "\n",
    "import json                             # For volatility\n",
    "from bs4 import BeautifulSoup\n",
    "\n",
    "from math import sqrt, exp, log, erf    # For Black Scholes\n",
    "\n",
    "from decimal import *\n",
    "getcontext().prec = 5\n",
    "\n",
    "\n",
    "###########################################\n",
    "####   Assemble Black and Scholes variables\n",
    "###########################################\n",
    "\n",
    "# Expiry Dates List\n",
    "exp_dates = pd.Series(['30NOV2017', '28DEC2017', '25JAN2018'], name=\"Expiry\")\n",
    "\n",
    "# Create Symbol Lot Margin (symlotmargin)\n",
    "paisaurl = \"https://www.5paisa.com/5pit/spma.asp\"\n",
    "paisa = pd.read_html(paisaurl)[1]          # It's the second table in the url\n",
    "\n",
    "# Make first row as header\n",
    "new_header = paisa.iloc[0]\n",
    "paisa = paisa[1:]\n",
    "paisa.columns = new_header\n",
    "\n",
    "symlotmargin = paisa.loc[:, [\"Symbol\", \"Mlot\", \"TotMgnPerLt\"]]\n",
    "\n",
    "# Merge dates to symlotmargin\n",
    "# symlotmargin.merge(exp_dates.to_frame(),left_index=index,right_index=index)\n",
    "\n",
    "# Interest rate (10-year bond yield)\n",
    "inturl = requests.get(\"https://countryeconomy.com/bonds/india\").content\n",
    "intrate = float(LH.fromstring(inturl).find_class('numero')[0].text)/100\n",
    "\n",
    "# Script name\n",
    "scrip = 'PFC'\n",
    "option = 'OPTSTK'\n",
    "exp_date = '28DEC2017'\n",
    "\n",
    "# NSE URL\n",
    "url = \"https://www.nseindia.com/live_market/dynaContent/live_watch/option_chain/optionKeys.jsp?&instrument=\"\n",
    "\n",
    "\n",
    "# URL for options table        \n",
    "url = url + option + \"&symbol=\" + scrip + \"&date=\"+ exp_date \n",
    "\n",
    "# Options table\n",
    "html = requests.get(url).content\n",
    "nsetable = pd.read_html(html, attrs = {'id':'octable'}, header=1)[-1][:-1].drop(['Chart', 'Chart.1'], 1)\n",
    "\n",
    "# Current underlying price\n",
    "tree = LH.fromstring(html)\n",
    "node = tree.xpath(\"//b\")[0]\n",
    "undprice = float(re.findall('\\d+\\.\\d+', node.text)[0])\n",
    "undprice\n",
    "\n",
    "# Days to expiry\n",
    "expiry = (datetime.datetime.strptime(exp_date, \"%d%b%Y\").date() - datetime.datetime.now().date()).days\n",
    "\n",
    "# Volatility\n",
    "future = 'FUTSTK'\n",
    "\n",
    "vol_url = \"https://www.nseindia.com/live_market/dynaContent/live_watch/get_quote/GetQuoteFO.jsp?instrument=\" + \\\n",
    "         future + \"&underlying=\" + scrip\n",
    "\n",
    "url = \"https://www.nseindia.com/live_market/dynaContent/live_watch/get_quote/GetQuoteFO.jsp?underlying=PFC&instrument=FUTSTK\"\n",
    "html = requests.get(url).text\n",
    "soup = BeautifulSoup(html, 'html.parser')\n",
    "data=soup.find(id=\"responseDiv\").text.strip()\n",
    "\n",
    "d1 = json.loads(data)\n",
    "volatility=float(d1['data'][0]['annualisedVolatility'])/100\n",
    "\n",
    "\n",
    "# Dividend rate\n",
    "divurl = \"https://finance.google.com/finance?q=NSE:\"+scrip\n",
    "page = requests.get(divurl)\n",
    "root = LH.fromstring(page.content)\n",
    "dividend = float(root.findall('.//table')[2].text_content().strip().split(\"\\n\")[2].split('/')[0])\n",
    "\n",
    "df = {\"undprice\": undprice, \"time\": expiry, \"rate\": intrate, \"sigma\": volatility, \"divrate\": dividend, \"strike\": 140.0}\n",
    "\n",
    "def calc_bs()"
   ]
  },
  {
   "cell_type": "code",
   "execution_count": 70,
   "metadata": {
    "scrolled": true
   },
   "outputs": [
    {
     "data": {
      "text/html": [
       "<div>\n",
       "<style>\n",
       "    .dataframe thead tr:only-child th {\n",
       "        text-align: right;\n",
       "    }\n",
       "\n",
       "    .dataframe thead th {\n",
       "        text-align: left;\n",
       "    }\n",
       "\n",
       "    .dataframe tbody tr th {\n",
       "        vertical-align: top;\n",
       "    }\n",
       "</style>\n",
       "<table border=\"1\" class=\"dataframe\">\n",
       "  <thead>\n",
       "    <tr style=\"text-align: right;\">\n",
       "      <th></th>\n",
       "      <th>Symbol</th>\n",
       "      <th>Mlot</th>\n",
       "      <th>TotMgnPerLt</th>\n",
       "    </tr>\n",
       "  </thead>\n",
       "  <tbody>\n",
       "    <tr>\n",
       "      <th>89</th>\n",
       "      <td>PFC</td>\n",
       "      <td>6000</td>\n",
       "      <td>96120</td>\n",
       "    </tr>\n",
       "  </tbody>\n",
       "</table>\n",
       "</div>"
      ],
      "text/plain": [
       "0  Symbol  Mlot TotMgnPerLt\n",
       "89    PFC  6000       96120"
      ]
     },
     "execution_count": 70,
     "metadata": {},
     "output_type": "execute_result"
    }
   ],
   "source": [
    "symlotmargin[symlotmargin['Symbol'] == 'PFC']"
   ]
  },
  {
   "cell_type": "code",
   "execution_count": 23,
   "metadata": {
    "scrolled": false
   },
   "outputs": [
    {
     "data": {
      "text/plain": [
       "{'divrate': 6.0,\n",
       " 'rate': 0.0718,\n",
       " 'sigma': 0.33039999999999997,\n",
       " 'strike': 140.0,\n",
       " 'time': 16,\n",
       " 'undprice': 117.45}"
      ]
     },
     "execution_count": 23,
     "metadata": {},
     "output_type": "execute_result"
    }
   ],
   "source": [
    "df"
   ]
  },
  {
   "cell_type": "code",
   "execution_count": 25,
   "metadata": {
    "scrolled": false
   },
   "outputs": [
    {
     "data": {
      "text/plain": [
       "['OI',\n",
       " 'Chng in OI',\n",
       " 'Volume',\n",
       " 'IV',\n",
       " 'LTP',\n",
       " 'Net Chng',\n",
       " 'BidQty',\n",
       " 'BidPrice',\n",
       " 'AskPrice',\n",
       " 'AskQty',\n",
       " 'Strike Price',\n",
       " 'BidQty.1',\n",
       " 'BidPrice.1',\n",
       " 'AskPrice.1',\n",
       " 'AskQty.1',\n",
       " 'Net Chng.1',\n",
       " 'LTP.1',\n",
       " 'IV.1',\n",
       " 'Volume.1',\n",
       " 'Chng in OI.1',\n",
       " 'OI.1']"
      ]
     },
     "execution_count": 25,
     "metadata": {},
     "output_type": "execute_result"
    }
   ],
   "source": [
    "list(nsetable)"
   ]
  },
  {
   "cell_type": "code",
   "execution_count": null,
   "metadata": {
    "collapsed": true
   },
   "outputs": [],
   "source": []
  }
 ],
 "metadata": {
  "kernelspec": {
   "display_name": "Python 3",
   "language": "python",
   "name": "python3"
  },
  "language_info": {
   "codemirror_mode": {
    "name": "ipython",
    "version": 3
   },
   "file_extension": ".py",
   "mimetype": "text/x-python",
   "name": "python",
   "nbconvert_exporter": "python",
   "pygments_lexer": "ipython3",
   "version": "3.6.1"
  }
 },
 "nbformat": 4,
 "nbformat_minor": 2
}
