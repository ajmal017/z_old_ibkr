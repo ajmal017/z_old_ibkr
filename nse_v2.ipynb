{
 "cells": [
  {
   "cell_type": "code",
   "execution_count": null,
   "metadata": {},
   "outputs": [],
   "source": [
    "# %%time\n",
    "import pandas as pd\n",
    "import requests\n",
    "import numpy as np\n",
    "\n",
    "# Get NSE Scrip expiry dates\n",
    "expurl = \"https://www.nseindia.com/live_market/dynaContent/live_watch/fomwatchsymbol.jsp?key=NIFTY&Fut_Opt=Futures\"\n",
    "\n",
    "exphtml = requests.get(expurl).content\n",
    "\n",
    "fnotable = pd.read_html(exphtml, match='Expiry Date', header=0)[0]\n",
    "fnoexpiry = fnotable['Expiry Date'][0:1]   # Takes only the first date\n",
    "\n",
    "# Get the list of equity scrips\n",
    "paisaurl = \"https://www.5paisa.com/5pit/spma.asp\"\n",
    "paisa = pd.read_html(paisaurl, header=0)[1]          # It's the second table in the url\n",
    "\n",
    "# Remove VIX and NIFTY \n",
    "symbol = paisa.loc[~(paisa.Symbol.str.contains('VIX') | paisa.Symbol.str.contains('NIFTY'))].Symbol\n",
    "\n",
    "# Replace & by %26 for NSE\n",
    "symbol.replace('&', '%26')\n",
    "\n",
    "\n",
    "# Combine Expiry and Scrips to a new url DataFrame\n",
    "urldf = pd.concat([symbol] * len(fnoexpiry), keys=fnoexpiry).reset_index().drop('level_1', axis=1)\n",
    "\n",
    "# NSE URLs\n",
    "nseurl = \"https://www.nseindia.com/live_market/dynaContent/live_watch/option_chain/optionKeys.jsp?&instrument=OPTSTK&symbol=\"\n",
    "\n",
    "# Make a Dataframe of the NSE URLs\n",
    "urldf['URL'] = nseurl + urldf['Symbol'] + '&date=' + urldf['Expiry Date']\n",
    "pd.set_option('display.max_colwidth', -1)\n",
    "\n",
    "# urldf = urldf.head() # Keep only the first 5 rows for brevity\n",
    "\n",
    "def getchain(u, e, s):\n",
    "    chainhtml = requests.get(u).content\n",
    "    chain = pd.read_html(chainhtml)[1][:-1]  # read the first table and drop the total\n",
    "    chain.columns=chain.columns.droplevel(0) # drop the first row of the header\n",
    "    chain = chain.drop('Chart', 1)           # drop the charts\n",
    "    \n",
    "    try:            # match='Underlying Stock:' gives errors when table is not found\n",
    "        underlyingtbl = pd.read_html(chainhtml, match='Underlying Stock:')[0][1]\n",
    "        underlying = underlyingtbl.iloc[0]\n",
    "        u = float(underlying.split(' ')[3])\n",
    "\n",
    "        chain['Underlying'] = u                  # price of the underlying\n",
    "        chain['Expiry'] = e                      # expiry date\n",
    "        chain['Symbol'] = s                      # symbol\n",
    "\n",
    "        return chain\n",
    "    \n",
    "    except:\n",
    "        pass\n",
    "\n",
    "chainheader = ['Call_OI', 'Call_OI_Chng', 'Call_Volume', 'Call_IV', 'Call_LTP', 'Call_NetChng', 'Call_BidQty', \\\n",
    "               'Call_BidPrice', 'Call_AskPrice', 'Call_AskQty', 'Strike', \\\n",
    "               'Put_BidQty', 'Put_BidPrice', 'Put_AskPrice', 'Put_AskQty', 'Put_NetChng', 'Put_LTP', 'Put_IV', \\\n",
    "               'Put_Volume', 'Put_OI_Chng', 'Put_OI', 'Underlying', 'Expiry', 'Symbol']\n",
    "\n",
    "v = np.vectorize(getchain)\n",
    "output = pd.concat(v(urldf.URL, urldf['Expiry Date'], urldf.Symbol))\n",
    "output.columns = chainheader\n",
    "\n",
    "output = output.replace(\"-\",0)\n",
    "output = output[(output.Call_LTP != 0) | (output.Put_LTP != 0)].reset_index(drop=True)"
   ]
  },
  {
   "cell_type": "code",
   "execution_count": null,
   "metadata": {},
   "outputs": [],
   "source": [
    "output[['Symbol', 'Call_IV', 'Put_IV', 'Strike Price', 'Underlying', 'Call_LTP', 'Put_LTP']]"
   ]
  },
  {
   "cell_type": "code",
   "execution_count": null,
   "metadata": {
    "collapsed": true
   },
   "outputs": [],
   "source": []
  }
 ],
 "metadata": {
  "kernelspec": {
   "display_name": "Python 3",
   "language": "python",
   "name": "python3"
  },
  "language_info": {
   "codemirror_mode": {
    "name": "ipython",
    "version": 3
   },
   "file_extension": ".py",
   "mimetype": "text/x-python",
   "name": "python",
   "nbconvert_exporter": "python",
   "pygments_lexer": "ipython3",
   "version": "3.6.1"
  }
 },
 "nbformat": 4,
 "nbformat_minor": 2
}
