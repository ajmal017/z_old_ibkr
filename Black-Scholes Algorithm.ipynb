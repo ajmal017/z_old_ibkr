{
 "cells": [
  {
   "cell_type": "code",
   "execution_count": 8,
   "metadata": {},
   "outputs": [
    {
     "name": "stdout",
     "output_type": "stream",
     "text": [
      "Current Stock Price?: 66.24\n",
      "Strike Price?: 45\n",
      "Days to expiration?: 202\n",
      "Current Interest Rate?: 0.0025\n",
      "Sigma?: 0.7082\n",
      "Dividend Rate?: 0\n",
      "\n",
      "Call Price = 25.09\n",
      "Put Price = 3.78\n"
     ]
    }
   ],
   "source": [
    "# Black Scholes Option Pricing\n",
    "\n",
    "from math import sqrt, exp, log, erf\n",
    "\n",
    "from decimal import *\n",
    "getcontext().prec = 5\n",
    "\n",
    "#inputs\n",
    "undprice = float(input(\"Current Stock Price?: \"))   # S\n",
    "strike = float(input(\"Strike Price?: \"))            # K\n",
    "time = float(input(\"Days to expiration?: \"))        # time till expiration in days\n",
    "rate = float(input(\"Current Interest Rate?: \"))     # Annualized risk free rate\n",
    "sigma = float(input(\"Sigma?: \"))                    # Standard deviation of stock's return\n",
    "divrate = float(input(\"Dividend Rate?: \"))          # Dividend yield on the stock\n",
    "\n",
    "#statistics\n",
    "sigTsquared = sqrt(Decimal(time)/365)*sigma\n",
    "edivT = exp((-divrate*time)/365)\n",
    "ert = exp((-rate*time)/365)\n",
    "d1 = (log(undprice*edivT/strike)+(rate+.5*(sigma**2))*time/365)/sigTsquared\n",
    "d2 = d1-sigTsquared\n",
    "Nd1 = (1+erf(d1/sqrt(2)))/2\n",
    "Nd2 = (1+erf(d2/sqrt(2)))/2\n",
    "iNd1 = (1+erf(-d1/sqrt(2)))/2\n",
    "iNd2 = (1+erf(-d2/sqrt(2)))/2\n",
    "\n",
    "#Outputs\n",
    "callPrice = round(undprice*edivT*Nd1-strike*ert*Nd2, 2)\n",
    "putPrice = round(strike*ert*iNd2-undprice*edivT*iNd1, 2)\n",
    "\n",
    "#Operations\n",
    "print(\"\")\n",
    "print(\"Call Price = \" + str(callPrice))\n",
    "print(\"Put Price = \" + str(putPrice))\n"
   ]
  },
  {
   "cell_type": "code",
   "execution_count": null,
   "metadata": {
    "collapsed": true
   },
   "outputs": [],
   "source": []
  }
 ],
 "metadata": {
  "kernelspec": {
   "display_name": "Python 3",
   "language": "python",
   "name": "python3"
  },
  "language_info": {
   "codemirror_mode": {
    "name": "ipython",
    "version": 3
   },
   "file_extension": ".py",
   "mimetype": "text/x-python",
   "name": "python",
   "nbconvert_exporter": "python",
   "pygments_lexer": "ipython3",
   "version": "3.6.1"
  }
 },
 "nbformat": 4,
 "nbformat_minor": 2
}
